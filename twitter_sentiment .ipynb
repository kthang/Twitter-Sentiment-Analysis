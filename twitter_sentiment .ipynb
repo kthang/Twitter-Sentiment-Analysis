{
 "cells": [
  {
   "cell_type": "code",
   "execution_count": 1,
   "metadata": {},
   "outputs": [],
   "source": [
    "#loading twitter data on the Gillette hashtag  \n",
    "\n",
    "f = open('GilletteAd.txt','r',encoding = 'utf-8')\n",
    "tweets = []\n",
    "\n",
    "for tweet in f:\n",
    "    tweets.append(tweet.lower().strip())\n",
    "\n",
    "f.close()"
   ]
  },
  {
   "cell_type": "code",
   "execution_count": 2,
   "metadata": {},
   "outputs": [],
   "source": [
    "#create a dictionary of positive terms \n",
    "\n",
    "positive = {}\n",
    "\n",
    "f = open('positive.txt','r')\n",
    "for w in f:\n",
    "    if len(w.strip()) >1:\n",
    "        positive[w.strip()] = 1\n",
    "f.close()"
   ]
  },
  {
   "cell_type": "code",
   "execution_count": 3,
   "metadata": {},
   "outputs": [],
   "source": [
    "#create a dictionary of negative terms \n",
    "\n",
    "negative = {}\n",
    "\n",
    "f = open('negative.txt','r')\n",
    "for w in f:\n",
    "    if len(w.strip()) > 1:\n",
    "        negative[w.strip()] = -1\n",
    "f.close()"
   ]
  },
  {
   "cell_type": "code",
   "execution_count": 7,
   "metadata": {},
   "outputs": [],
   "source": [
    "#create positive and negative scores for this hashtag \n",
    "\n",
    "n_pos = 0\n",
    "n_neg = 0\n",
    "total_words = 0\n",
    "\n",
    "for tweet in tweets:\n",
    "    words = [w.split(\",.:;\\'!?\") for w in tweet.split()]\n",
    "    total_words += len(words)\n",
    "    for w in words:\n",
    "        if w[0] in positive:\n",
    "            n_pos += 1\n",
    "        elif w[0] in negative:\n",
    "            n_neg += 1"
   ]
  },
  {
   "cell_type": "code",
   "execution_count": 39,
   "metadata": {},
   "outputs": [
    {
     "name": "stdout",
     "output_type": "stream",
     "text": [
      "There were 25270 total words tweeted with the GilletteAd hashtag\n"
     ]
    }
   ],
   "source": [
    "print('There were', total_words, 'total words tweeted with the GilletteAd hashtag')"
   ]
  },
  {
   "cell_type": "code",
   "execution_count": 35,
   "metadata": {},
   "outputs": [
    {
     "name": "stdout",
     "output_type": "stream",
     "text": [
      "the overal sentiment of the Gillette hashtag is:  -122\n",
      "1.13% of the words were positive\n",
      "1.61% of the words were negative\n",
      "I would describe the sentiment of the Gillette ad to be weakly negative \n"
     ]
    }
   ],
   "source": [
    "#print results \n",
    "\n",
    "sentiment = n_pos - n_neg\n",
    "perc_pos = '{:.2f}%'.format(n_pos/total_words*100)\n",
    "perc_neg = '{:.2f}%'.format(n_neg/total_words*100)\n",
    "\n",
    "print('the overal sentiment of the Gillette hashtag is: ',sentiment)\n",
    "print(perc_pos + ' of the words were positive')\n",
    "print(perc_neg + ' of the words were negative')\n",
    "print('I would describe the sentiment of the Gillette ad to be weakly negative ')\n"
   ]
  },
  {
   "cell_type": "code",
   "execution_count": null,
   "metadata": {},
   "outputs": [],
   "source": []
  }
 ],
 "metadata": {
  "kernelspec": {
   "display_name": "Python 3",
   "language": "python",
   "name": "python3"
  },
  "language_info": {
   "codemirror_mode": {
    "name": "ipython",
    "version": 3
   },
   "file_extension": ".py",
   "mimetype": "text/x-python",
   "name": "python",
   "nbconvert_exporter": "python",
   "pygments_lexer": "ipython3",
   "version": "3.6.5"
  }
 },
 "nbformat": 4,
 "nbformat_minor": 2
}
